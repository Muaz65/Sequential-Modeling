{
 "cells": [
  {
   "cell_type": "code",
   "execution_count": 1,
   "metadata": {},
   "outputs": [
    {
     "name": "stderr",
     "output_type": "stream",
     "text": [
      "Using TensorFlow backend.\n",
      "/home/omno/anaconda3/lib/python3.7/site-packages/sklearn/linear_model/least_angle.py:30: DeprecationWarning: `np.float` is a deprecated alias for the builtin `float`. To silence this warning, use `float` by itself. Doing this will not modify any behavior and is safe. If you specifically wanted the numpy scalar type, use `np.float64` here.\n",
      "Deprecated in NumPy 1.20; for more details and guidance: https://numpy.org/devdocs/release/1.20.0-notes.html#deprecations\n",
      "  method='lar', copy_X=True, eps=np.finfo(np.float).eps,\n",
      "/home/omno/anaconda3/lib/python3.7/site-packages/sklearn/linear_model/least_angle.py:167: DeprecationWarning: `np.float` is a deprecated alias for the builtin `float`. To silence this warning, use `float` by itself. Doing this will not modify any behavior and is safe. If you specifically wanted the numpy scalar type, use `np.float64` here.\n",
      "Deprecated in NumPy 1.20; for more details and guidance: https://numpy.org/devdocs/release/1.20.0-notes.html#deprecations\n",
      "  method='lar', copy_X=True, eps=np.finfo(np.float).eps,\n",
      "/home/omno/anaconda3/lib/python3.7/site-packages/sklearn/linear_model/least_angle.py:284: DeprecationWarning: `np.float` is a deprecated alias for the builtin `float`. To silence this warning, use `float` by itself. Doing this will not modify any behavior and is safe. If you specifically wanted the numpy scalar type, use `np.float64` here.\n",
      "Deprecated in NumPy 1.20; for more details and guidance: https://numpy.org/devdocs/release/1.20.0-notes.html#deprecations\n",
      "  eps=np.finfo(np.float).eps, copy_Gram=True, verbose=0,\n",
      "/home/omno/anaconda3/lib/python3.7/site-packages/sklearn/linear_model/least_angle.py:862: DeprecationWarning: `np.float` is a deprecated alias for the builtin `float`. To silence this warning, use `float` by itself. Doing this will not modify any behavior and is safe. If you specifically wanted the numpy scalar type, use `np.float64` here.\n",
      "Deprecated in NumPy 1.20; for more details and guidance: https://numpy.org/devdocs/release/1.20.0-notes.html#deprecations\n",
      "  eps=np.finfo(np.float).eps, copy_X=True, fit_path=True,\n",
      "/home/omno/anaconda3/lib/python3.7/site-packages/sklearn/linear_model/least_angle.py:1101: DeprecationWarning: `np.float` is a deprecated alias for the builtin `float`. To silence this warning, use `float` by itself. Doing this will not modify any behavior and is safe. If you specifically wanted the numpy scalar type, use `np.float64` here.\n",
      "Deprecated in NumPy 1.20; for more details and guidance: https://numpy.org/devdocs/release/1.20.0-notes.html#deprecations\n",
      "  eps=np.finfo(np.float).eps, copy_X=True, fit_path=True,\n",
      "/home/omno/anaconda3/lib/python3.7/site-packages/sklearn/linear_model/least_angle.py:1127: DeprecationWarning: `np.float` is a deprecated alias for the builtin `float`. To silence this warning, use `float` by itself. Doing this will not modify any behavior and is safe. If you specifically wanted the numpy scalar type, use `np.float64` here.\n",
      "Deprecated in NumPy 1.20; for more details and guidance: https://numpy.org/devdocs/release/1.20.0-notes.html#deprecations\n",
      "  eps=np.finfo(np.float).eps, positive=False):\n",
      "/home/omno/anaconda3/lib/python3.7/site-packages/sklearn/linear_model/least_angle.py:1362: DeprecationWarning: `np.float` is a deprecated alias for the builtin `float`. To silence this warning, use `float` by itself. Doing this will not modify any behavior and is safe. If you specifically wanted the numpy scalar type, use `np.float64` here.\n",
      "Deprecated in NumPy 1.20; for more details and guidance: https://numpy.org/devdocs/release/1.20.0-notes.html#deprecations\n",
      "  max_n_alphas=1000, n_jobs=None, eps=np.finfo(np.float).eps,\n",
      "/home/omno/anaconda3/lib/python3.7/site-packages/sklearn/linear_model/least_angle.py:1602: DeprecationWarning: `np.float` is a deprecated alias for the builtin `float`. To silence this warning, use `float` by itself. Doing this will not modify any behavior and is safe. If you specifically wanted the numpy scalar type, use `np.float64` here.\n",
      "Deprecated in NumPy 1.20; for more details and guidance: https://numpy.org/devdocs/release/1.20.0-notes.html#deprecations\n",
      "  max_n_alphas=1000, n_jobs=None, eps=np.finfo(np.float).eps,\n",
      "/home/omno/anaconda3/lib/python3.7/site-packages/sklearn/linear_model/least_angle.py:1738: DeprecationWarning: `np.float` is a deprecated alias for the builtin `float`. To silence this warning, use `float` by itself. Doing this will not modify any behavior and is safe. If you specifically wanted the numpy scalar type, use `np.float64` here.\n",
      "Deprecated in NumPy 1.20; for more details and guidance: https://numpy.org/devdocs/release/1.20.0-notes.html#deprecations\n",
      "  eps=np.finfo(np.float).eps, copy_X=True, positive=False):\n",
      "/home/omno/anaconda3/lib/python3.7/site-packages/sklearn/decomposition/online_lda.py:29: DeprecationWarning: `np.float` is a deprecated alias for the builtin `float`. To silence this warning, use `float` by itself. Doing this will not modify any behavior and is safe. If you specifically wanted the numpy scalar type, use `np.float64` here.\n",
      "Deprecated in NumPy 1.20; for more details and guidance: https://numpy.org/devdocs/release/1.20.0-notes.html#deprecations\n",
      "  EPS = np.finfo(np.float).eps\n"
     ]
    }
   ],
   "source": [
    "# multivariate multi-step encoder-decoder lstm example\n",
    "from numpy import array\n",
    "from numpy import hstack\n",
    "from keras.models import Sequential\n",
    "from keras.layers import LSTM, Bidirectional\n",
    "from keras.layers import Dense\n",
    "from keras.layers import RepeatVector\n",
    "from keras.layers import TimeDistributed\n",
    "from keras.callbacks import EarlyStopping\n",
    "import tensorflow_hub as hub\n",
    "import numpy as np\n",
    "import tensorflow_text\n",
    "from sklearn.neighbors import NearestCentroid\n",
    "import os\n",
    "import tensorflow as tf\n",
    "os.environ['TF_CPP_MIN_LOG_LEVEL'] = '3'\n",
    "os.environ['CUDA_VISIBLE_DEVICES'] = '-1'\n",
    "import pandas as pd\n",
    "import itertools\n",
    "from random import sample \n",
    "from keras.models import load_model\n",
    "from numpy import array\n",
    "import numpy as np\n",
    "from gensim.models import Word2Vec, tfidfmodel\n"
   ]
  },
  {
   "cell_type": "code",
   "execution_count": 8,
   "metadata": {},
   "outputs": [
    {
     "name": "stdout",
     "output_type": "stream",
     "text": [
      "(135597, 4, 20)\n"
     ]
    }
   ],
   "source": [
    "\n",
    "n_steps_in, n_steps_out = 4, 1\n",
    "# covert into input/output\n",
    "X = np.load('data/X.data.npy')\n",
    "y = np.load('data/y.data.npy')\n",
    "print(X.shape)\n",
    "# the dataset knows the number of features, e.g. 2\n",
    "n_features = X.shape[2]\n"
   ]
  },
  {
   "cell_type": "code",
   "execution_count": 13,
   "metadata": {},
   "outputs": [
    {
     "name": "stdout",
     "output_type": "stream",
     "text": [
      "Train on 90849 samples, validate on 44748 samples\n",
      "Epoch 1/100\n",
      "90849/90849 [==============================] - 330s 4ms/step - loss: 0.1207 - val_loss: 0.1105\n",
      "Epoch 2/100\n",
      "90849/90849 [==============================] - 332s 4ms/step - loss: 0.1158 - val_loss: 0.1081\n",
      "Epoch 3/100\n",
      "90849/90849 [==============================] - 292s 3ms/step - loss: 0.1145 - val_loss: 0.1082\n",
      "Epoch 4/100\n",
      "90849/90849 [==============================] - 270s 3ms/step - loss: 0.1137 - val_loss: 0.1068\n",
      "Epoch 5/100\n",
      "90849/90849 [==============================] - 268s 3ms/step - loss: 0.1130 - val_loss: 0.1063\n",
      "Epoch 6/100\n",
      "90849/90849 [==============================] - 268s 3ms/step - loss: 0.1126 - val_loss: 0.1059\n",
      "Epoch 7/100\n",
      "90849/90849 [==============================] - 266s 3ms/step - loss: 0.1122 - val_loss: 0.1055\n",
      "Epoch 8/100\n",
      "90849/90849 [==============================] - 268s 3ms/step - loss: 0.1118 - val_loss: 0.1052\n",
      "Epoch 9/100\n",
      "90849/90849 [==============================] - 268s 3ms/step - loss: 0.1116 - val_loss: 0.1051\n",
      "Epoch 10/100\n",
      "90849/90849 [==============================] - 267s 3ms/step - loss: 0.1113 - val_loss: 0.1055\n",
      "Epoch 11/100\n",
      "90849/90849 [==============================] - 307s 3ms/step - loss: 0.1111 - val_loss: 0.1052\n",
      "Epoch 12/100\n",
      "90849/90849 [==============================] - 285s 3ms/step - loss: 0.1109 - val_loss: 0.1049\n",
      "Epoch 13/100\n",
      "90849/90849 [==============================] - 268s 3ms/step - loss: 0.1106 - val_loss: 0.1047\n",
      "Epoch 14/100\n",
      "90849/90849 [==============================] - 268s 3ms/step - loss: 0.1104 - val_loss: 0.1047\n",
      "Epoch 15/100\n",
      "90849/90849 [==============================] - 267s 3ms/step - loss: 0.1103 - val_loss: 0.1044\n",
      "Epoch 16/100\n",
      "90849/90849 [==============================] - 267s 3ms/step - loss: 0.1101 - val_loss: 0.1042\n",
      "Epoch 17/100\n",
      "90849/90849 [==============================] - 267s 3ms/step - loss: 0.1101 - val_loss: 0.1046\n",
      "Epoch 18/100\n",
      "90849/90849 [==============================] - 266s 3ms/step - loss: 0.1098 - val_loss: 0.1039\n",
      "Epoch 19/100\n",
      "90849/90849 [==============================] - 267s 3ms/step - loss: 0.1097 - val_loss: 0.1047\n",
      "Epoch 20/100\n",
      "90849/90849 [==============================] - 266s 3ms/step - loss: 0.1096 - val_loss: 0.1050\n",
      "Epoch 21/100\n",
      "90849/90849 [==============================] - 266s 3ms/step - loss: 0.1093 - val_loss: 0.1046\n",
      "Epoch 22/100\n",
      "90849/90849 [==============================] - 266s 3ms/step - loss: 0.1092 - val_loss: 0.1042\n",
      "Epoch 23/100\n",
      "90849/90849 [==============================] - 267s 3ms/step - loss: 0.1091 - val_loss: 0.1048\n"
     ]
    }
   ],
   "source": [
    "\n",
    "# define model\n",
    "model = Sequential()\n",
    "model.add(Bidirectional(LSTM(512, activation='relu', input_shape=(n_steps_in, n_features), dropout=0.4, recurrent_dropout=0.2)))\n",
    "model.add(RepeatVector(n_steps_out))\n",
    "model.add(Bidirectional(LSTM(512, activation='relu', return_sequences=True, dropout=0.4, recurrent_dropout=0.2)))\n",
    "model.add(TimeDistributed(Dense(n_features)))\n",
    "\n",
    "model.compile(optimizer='adam', loss='mse')\n",
    "# fit model\n",
    "es = EarlyStopping(monitor='val_loss', min_delta=0.00001, patience=5, restore_best_weights=True)\n",
    "model.fit(X, y, batch_size=32, epochs=100, verbose=1, validation_split=0.33, callbacks=[es])\n",
    "# demonstrate prediction\n",
    "\n",
    "model.save('data/model.h5')"
   ]
  },
  {
   "cell_type": "code",
   "execution_count": 2,
   "metadata": {},
   "outputs": [],
   "source": [
    "w2v = Word2Vec.load(\"data/word2vec.model\")\n",
    "recom_model= load_model('data/model.h5')\n",
    "\n"
   ]
  },
  {
   "cell_type": "code",
   "execution_count": 3,
   "metadata": {},
   "outputs": [],
   "source": [
    "X = np.load('data/X.data.npy')\n",
    "y = np.load('data/y.data.npy')\n",
    "\n",
    "X_org= np.load('data/X_org.data.npy')\n",
    "Y_org= np.load('data/y_org.data.npy')"
   ]
  },
  {
   "cell_type": "code",
   "execution_count": 4,
   "metadata": {},
   "outputs": [],
   "source": [
    "def decode_output(model,item, top_n=-1):\n",
    "    result=model.wv.most_similar(item)\n",
    "    result= [i[0] for i in result][0:top_n]\n",
    "    return result\n",
    "    \n",
    "def inference(seq, e_model):\n",
    "    return [decode_output(e_model, seq[0])]#,decode_output(e_model,seq[1])] "
   ]
  },
  {
   "cell_type": "code",
   "execution_count": 6,
   "metadata": {},
   "outputs": [
    {
     "name": "stdout",
     "output_type": "stream",
     "text": [
      "135597/135597 [==============================] - 53s 390us/step\n",
      "Accuracy: 23.475445621953288\n"
     ]
    }
   ],
   "source": [
    "correct=0\n",
    "freq=0\n",
    "\n",
    "#Model Inference\n",
    "Y_pred= recom_model.predict(X, verbose=1)\n",
    "\n",
    "for i in range(len(Y_pred)):\n",
    "    #predicted embedings top_n match\n",
    "    results=inference(Y_pred[i],w2v)\n",
    "    if Y_org[i][0] in results[0]:\n",
    "        correct+=1\n",
    "    freq+=1\n",
    "\n",
    "print(\"Accuracy:\",(correct/freq)*100)"
   ]
  },
  {
   "cell_type": "code",
   "execution_count": null,
   "metadata": {},
   "outputs": [],
   "source": []
  }
 ],
 "metadata": {
  "kernelspec": {
   "display_name": "Python 3",
   "language": "python",
   "name": "python3"
  },
  "language_info": {
   "codemirror_mode": {
    "name": "ipython",
    "version": 3
   },
   "file_extension": ".py",
   "mimetype": "text/x-python",
   "name": "python",
   "nbconvert_exporter": "python",
   "pygments_lexer": "ipython3",
   "version": "3.7.6"
  }
 },
 "nbformat": 4,
 "nbformat_minor": 5
}
